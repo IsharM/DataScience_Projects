{
 "cells": [
  {
   "cell_type": "code",
   "execution_count": 1,
   "metadata": {},
   "outputs": [],
   "source": [
    "import re\n",
    "from collections import Counter"
   ]
  },
  {
   "cell_type": "code",
   "execution_count": 2,
   "metadata": {},
   "outputs": [],
   "source": [
    "# function to tokenise words\n",
    "def words(document):\n",
    "    \"Convert text to lower case and tokenise the document\"\n",
    "    return re.findall(r'\\w+', document.lower())"
   ]
  },
  {
   "cell_type": "code",
   "execution_count": 3,
   "metadata": {},
   "outputs": [],
   "source": [
    "# create a frequency table of all the words of the document\n",
    "all_words = Counter(words(open('big.txt').read()))"
   ]
  },
  {
   "cell_type": "code",
   "execution_count": 4,
   "metadata": {},
   "outputs": [
    {
     "data": {
      "text/plain": [
       "107"
      ]
     },
     "execution_count": 4,
     "metadata": {},
     "output_type": "execute_result"
    }
   ],
   "source": [
    "# check frequency of a random word, say, 'chair'\n",
    "all_words['chair']"
   ]
  },
  {
   "cell_type": "code",
   "execution_count": 5,
   "metadata": {},
   "outputs": [
    {
     "data": {
      "text/plain": [
       "[('the', 54865),\n",
       " ('of', 28802),\n",
       " ('and', 22235),\n",
       " ('to', 16620),\n",
       " ('in', 15482),\n",
       " ('a', 13748),\n",
       " ('is', 7399),\n",
       " ('it', 6710),\n",
       " ('that', 6360),\n",
       " ('was', 6085)]"
      ]
     },
     "execution_count": 5,
     "metadata": {},
     "output_type": "execute_result"
    }
   ],
   "source": [
    "# look at top 10 frequent words\n",
    "all_words.most_common(10)"
   ]
  },
  {
   "cell_type": "code",
   "execution_count": 6,
   "metadata": {},
   "outputs": [],
   "source": [
    "def edits_one(word):\n",
    "    \"Create all edits that are one edit away from `word`.\"\n",
    "    alphabets    = 'abcdefghijklmnopqrstuvwxyz'\n",
    "    splits     = [(word[:i], word[i:])                   for i in range(len(word) + 1)]\n",
    "    deletes    = [left + right[1:]                       for left, right in splits if right]\n",
    "    inserts    = [left + c + right                       for left, right in splits for c in alphabets]\n",
    "    replaces   = [left + c + right[1:]                   for left, right in splits if right for c in alphabets]\n",
    "    transposes = [left + right[1] + right[0] + right[2:] for left, right in splits if len(right)>1]\n",
    "    return set(deletes + inserts + replaces + transposes)"
   ]
  },
  {
   "cell_type": "code",
   "execution_count": 7,
   "metadata": {},
   "outputs": [],
   "source": [
    "def edits_two(word):\n",
    "    \"Create all edits that are two edits away from `word`.\"\n",
    "    return (e2 for e1 in edits_one(word) for e2 in edits_one(e1))"
   ]
  },
  {
   "cell_type": "code",
   "execution_count": 8,
   "metadata": {},
   "outputs": [],
   "source": [
    "def known(words):\n",
    "    \"The subset of `words` that appear in the `all_words`.\"\n",
    "    return set(word for word in words if word in all_words)"
   ]
  },
  {
   "cell_type": "code",
   "execution_count": 9,
   "metadata": {},
   "outputs": [],
   "source": [
    "def possible_corrections(word):\n",
    "    \"Generate possible spelling corrections for word.\"\n",
    "    return (known([word]) or known(edits_one(word)) or known(edits_two(word)) or [word])"
   ]
  },
  {
   "cell_type": "code",
   "execution_count": 10,
   "metadata": {},
   "outputs": [],
   "source": [
    "def prob(word, N=sum(all_words.values())): \n",
    "    \"Probability of `word`: Number of appearances of 'word' / total number of tokens\"\n",
    "    return all_words[word] / N"
   ]
  },
  {
   "cell_type": "code",
   "execution_count": 11,
   "metadata": {},
   "outputs": [
    {
     "name": "stdout",
     "output_type": "stream",
     "text": [
      "336\n",
      "{'monfney', 'mocney', 'monnety', 'mtonney', 'moqnney', 'motney', 'monney', 'moneey', 'monnby', 'monnxey', 'kmonney', 'mlnney', 'monnefy', 'monnem', 'montney', 'monneyy', 'monnemy', 'mcnney', 'mtnney', 'monneny', 'monntey', 'mondey', 'monngey', 'monkney', 'mgnney', 'monndy', 'aonney', 'mnnney', 'moonney', 'monneyl', 'monnoy', 'monneb', 'monxney', 'monwey', 'monnely', 'minney', 'monbney', 'mopney', 'monnqey', 'monnevy', 'monnec', 'monaney', 'konney', 'monnye', 'emonney', 'mopnney', 'mzonney', 'monnezy', 'monneyj', 'mofnney', 'monnzy', 'vmonney', 'amonney', 'mionney', 'monnes', 'eonney', 'zmonney', 'ionney', 'molnney', 'moneney', 'monxey', 'mononey', 'monneyh', 'monneg', 'mpnney', 'monneyu', 'yonney', 'monneyb', 'mbnney', 'monnmey', 'mhnney', 'xonney', 'pmonney', 'monnev', 'monnej', 'moaney', 'monnegy', 'monnexy', 'moxnney', 'mdonney', 'monvney', 'movnney', 'moneny', 'maonney', 'monnny', 'omnney', 'monne', 'monncy', 'mqonney', 'moknney', 'monnew', 'mxnney', 'modney', 'oonney', 'dmonney', 'monnehy', 'monnhey', 'nonney', 'msnney', 'mojnney', 'wonney', 'moynney', 'mponney', 'monneyt', 'monsey', 'monnpey', 'monnfey', 'monoey', 'monnrey', 'monnsy', 'hmonney', 'monneye', 'monniy', 'monneyv', 'monnea', 'monnvey', 'moqney', 'mooney', 'monnyy', 'monneyf', 'momney', 'monfey', 'mwnney', 'moxney', 'monmey', 'mnonney', 'monneo', 'monrney', 'monneey', 'cmonney', 'ponney', 'gonney', 'mvnney', 'monneay', 'monneh', 'monneu', 'monnbey', 'monneyp', 'moyney', 'monnly', 'movney', 'smonney', 'monzey', 'monneyx', 'lmonney', 'monneyn', 'monnoey', 'mohney', 'monnaey', 'monnjy', 'mounney', 'monnfy', 'monnhy', 'qmonney', 'monpney', 'monqney', 'bmonney', 'modnney', 'monnky', 'monzney', 'monneyd', 'monnwey', 'mynney', 'qonney', 'monnvy', 'monnesy', 'mowney', 'monnei', 'monneyg', 'mouney', 'molney', 'monneyr', 'monny', 'mdnney', 'monneya', 'xmonney', 'mqnney', 'monnqy', 'mwonney', 'motnney', 'monnxy', 'monnen', 'monnyey', 'conney', 'ymonney', 'ronney', 'mognney', 'monnpy', 'moznney', 'tmonney', 'momnney', 'monneyq', 'tonney', 'omonney', 'monndey', 'monncey', 'monnez', 'vonney', 'monneyw', 'monned', 'fmonney', 'mojney', 'meonney', 'sonney', 'monrey', 'monyney', 'mogney', 'monneyk', 'monnex', 'monnejy', 'monmney', 'monnuy', 'mxonney', 'mobney', 'mownney', 'monngy', 'monnkey', 'monneoy', 'moncey', 'monqey', 'monnwy', 'monlney', 'monneys', 'monnel', 'monneky', 'mondney', 'mkonney', 'mnney', 'monnery', 'moncney', 'montey', 'muonney', 'onney', 'moanney', 'mofney', 'monneqy', 'monley', 'uonney', 'mocnney', 'mrnney', 'moniney', 'monnzey', 'monuey', 'moenney', 'imonney', 'bonney', 'fonney', 'mbonney', 'mronney', 'monnewy', 'monneyz', 'moniey', 'monnry', 'umonney', 'mfonney', 'gmonney', 'mjonney', 'munney', 'mosnney', 'monnley', 'donney', 'mmonney', 'msonney', 'monpey', 'monneq', 'monnef', 'monnedy', 'mfnney', 'mgonney', 'rmonney', 'mokney', 'mosney', 'monnecy', 'monhey', 'monvey', 'mjnney', 'honney', 'monwney', 'monuney', 'money', 'menney', 'monbey', 'myonney', 'mlonney', 'mvonney', 'monneym', 'monneyo', 'mozney', 'monnjey', 'mznney', 'wmonney', 'monneyi', 'mnoney', 'monnep', 'monnsey', 'monnee', 'monneyc', 'moiney', 'monsney', 'morney', 'monner', 'monjney', 'monnuey', 'mconney', 'jonney', 'moeney', 'monneuy', 'monaey', 'mknney', 'mongey', 'monnepy', 'monnty', 'monhney', 'monkey', 'monnek', 'monneby', 'mmnney', 'monjey', 'monnay', 'monniey', 'monnmy', 'monnet', 'mhonney', 'manney', 'moinney', 'monneiy', 'mohnney', 'jmonney', 'mongney', 'monnney', 'mornney', 'mobnney', 'monyey', 'nmonney', 'lonney', 'zonney'}\n"
     ]
    }
   ],
   "source": [
    "print(len(set(edits_one(\"monney\"))))\n",
    "print(edits_one(\"monney\"))"
   ]
  },
  {
   "cell_type": "code",
   "execution_count": 12,
   "metadata": {},
   "outputs": [
    {
     "name": "stdout",
     "output_type": "stream",
     "text": [
      "{'money', 'monkey'}\n"
     ]
    }
   ],
   "source": [
    "print(known(edits_one(\"monney\")))"
   ]
  },
  {
   "cell_type": "code",
   "execution_count": 13,
   "metadata": {},
   "outputs": [
    {
     "name": "stdout",
     "output_type": "stream",
     "text": [
      "51013\n",
      "{'money', 'monkey'}\n"
     ]
    }
   ],
   "source": [
    "# Let's look at words that are two edits away\n",
    "print(len(set(edits_two(\"monney\"))))\n",
    "print(known(edits_one(\"monney\")))"
   ]
  },
  {
   "cell_type": "code",
   "execution_count": 14,
   "metadata": {},
   "outputs": [
    {
     "name": "stdout",
     "output_type": "stream",
     "text": [
      "{'money', 'monkey'}\n"
     ]
    }
   ],
   "source": [
    "# Let's look at possible corrections of a word\n",
    "print(possible_corrections(\"monney\"))"
   ]
  },
  {
   "cell_type": "code",
   "execution_count": 15,
   "metadata": {},
   "outputs": [
    {
     "name": "stdout",
     "output_type": "stream",
     "text": [
      "0.00035487188400758993\n",
      "1.4484566694187344e-06\n"
     ]
    }
   ],
   "source": [
    "# Let's look at probability of a word\n",
    "print(prob(\"money\"))\n",
    "print(prob(\"monkey\"))"
   ]
  },
  {
   "cell_type": "code",
   "execution_count": 16,
   "metadata": {},
   "outputs": [],
   "source": [
    "def spell_check(word):\n",
    "    \"Print the most probable spelling correction for `word` out of all the `possible_corrections`\"\n",
    "    correct_word = max(possible_corrections(word), key=prob)\n",
    "    if correct_word != word:\n",
    "        return \"Did you mean \" + correct_word + \"?\"\n",
    "    else:\n",
    "        return \"Correct spelling.\""
   ]
  },
  {
   "cell_type": "code",
   "execution_count": 17,
   "metadata": {},
   "outputs": [
    {
     "name": "stdout",
     "output_type": "stream",
     "text": [
      "Did you mean money?\n"
     ]
    }
   ],
   "source": [
    "# test spell check\n",
    "print(spell_check(\"monney\"))"
   ]
  },
  {
   "cell_type": "code",
   "execution_count": null,
   "metadata": {},
   "outputs": [],
   "source": []
  },
  {
   "cell_type": "code",
   "execution_count": 25,
   "metadata": {},
   "outputs": [
    {
     "data": {
      "text/plain": [
       "1"
      ]
     },
     "execution_count": 25,
     "metadata": {},
     "output_type": "execute_result"
    }
   ],
   "source": [
    "len(list(possible_corrections('emfasize')))"
   ]
  }
 ],
 "metadata": {
  "kernelspec": {
   "display_name": "Python 3",
   "language": "python",
   "name": "python3"
  },
  "language_info": {
   "codemirror_mode": {
    "name": "ipython",
    "version": 3
   },
   "file_extension": ".py",
   "mimetype": "text/x-python",
   "name": "python",
   "nbconvert_exporter": "python",
   "pygments_lexer": "ipython3",
   "version": "3.7.4"
  }
 },
 "nbformat": 4,
 "nbformat_minor": 2
}
